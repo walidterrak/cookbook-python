{
 "cells": [
  {
   "cell_type": "markdown",
   "metadata": {},
   "source": [
    "*petit book pour connaitre les base de python*"
   ]
  },
  {
   "cell_type": "markdown",
   "metadata": {},
   "source": [
    "**type natifs : Les chaînes de caractères/ Les nombres entiers/ Les nombres décimaux/ les booléen**"
   ]
  },
  {
   "cell_type": "markdown",
   "metadata": {},
   "source": [
    "## les chaines de caractéres"
   ]
  },
  {
   "cell_type": "markdown",
   "metadata": {},
   "source": [
    "Les chaînes de caractères en Python : Une chaîne de caractères est une séquence de caractères et un caractère est un symbole.\n",
    "Quand vous exécutez du code contenant une chaîne de caractères, chaque symbole est encodé (souvent en ASCII ou en Unicode) et devient compréhensible par votre ordinateur qui lui ne comprend que le langage binaire."
   ]
  },
  {
   "cell_type": "markdown",
   "metadata": {},
   "source": [
    "Pour créer une chaîne de caractères, on doit entourer les caractères d'apostrophes (aussi appelées guillemets simples) ou de guillemets doubles :"
   ]
  },
  {
   "cell_type": "code",
   "execution_count": 2,
   "metadata": {},
   "outputs": [],
   "source": [
    "variable_un = 'apostrophes'\n",
    "variable_deux = \"guillemets\"\n"
   ]
  },
  {
   "cell_type": "markdown",
   "metadata": {},
   "source": [
    "Il n'y a aucune différence entre les deux, c'est une question de style !\n",
    "\n",
    "Personnellement, je préfère utiliser les guillemets doubles pour la simple raison que ça permet d'insérer des / guillemets simples dans les phrases sans avoir besoin de les échapper avec un antislash.\n",
    "\n",
    "Par exemple si je veux faire une chaîne de caractères pour indiquer mon âge :"
   ]
  },
  {
   "cell_type": "code",
   "execution_count": 3,
   "metadata": {},
   "outputs": [],
   "source": [
    "age = \"J'ai 26 ans\"  # Avec guillemets doubles\n",
    "age = 'J\\'ai 26 ans'  # Avec guillemets simples\n"
   ]
  },
  {
   "cell_type": "markdown",
   "metadata": {},
   "source": [
    "Vous pouvez également écrire des chaînes de caractères sur plusieurs lignes en utilisant trois guillemets au lieu d'un seul :"
   ]
  },
  {
   "cell_type": "code",
   "execution_count": 4,
   "metadata": {},
   "outputs": [],
   "source": [
    "longue_phrase = '''Bonjour,\n",
    "bienvenue sur Docstring, \n",
    "    on espère que vous appréciez \n",
    "ce glossaire sur les chaînes\n",
    "de caractères 🙂\n",
    "'''\n"
   ]
  },
  {
   "cell_type": "markdown",
   "metadata": {},
   "source": [
    "Là encore, vous pouvez utiliser des guillemets simples ou doubles.\n",
    "\n",
    "Les chaînes de caractères étant des séquences de caractères, on peut accéder à un élément en utilisant les crochets et la position de l'élément dans la chaîne de caractères :"
   ]
  },
  {
   "cell_type": "code",
   "execution_count": 5,
   "metadata": {},
   "outputs": [
    {
     "name": "stdout",
     "output_type": "stream",
     "text": [
      "d\n",
      "t\n"
     ]
    }
   ],
   "source": [
    "site = 'docstring'\n",
    "print(site[0])  # d\n",
    "print(site[4])  # t"
   ]
  },
  {
   "cell_type": "markdown",
   "metadata": {},
   "source": [
    "Vous pouvez accéder à plusieurs éléments en même temps grâce au slicing qui permet de préciser un intervalle de recherche avec un début, une fin et éventuellement un pas (un par un, deux par deux, trois par trois, etc). On doit séparer chaque valeur de l'intervalle par le symbole deux-points : :"
   ]
  },
  {
   "cell_type": "code",
   "execution_count": 6,
   "metadata": {},
   "outputs": [
    {
     "name": "stdout",
     "output_type": "stream",
     "text": [
      "doc\n",
      "string\n",
      "osrn\n"
     ]
    }
   ],
   "source": [
    "site = 'docstring'\n",
    "print(site[0:3])  # 'doc'\n",
    "print(site[3:])   # 'string'\n",
    "print(site[1::2]) # 'osrn'"
   ]
  },
  {
   "cell_type": "markdown",
   "metadata": {},
   "source": [
    "La valeur de début de l'intervalle est inclusive alors quelle celle de fin est exclusive !"
   ]
  },
  {
   "cell_type": "markdown",
   "metadata": {},
   "source": [
    "Il n'est pas possible de directement modifier une chaîne de caractères.\n",
    "\n",
    "En effet, une chaîne de caractères est un objet immuable, ce qui signifie qu'on ne peut pas la modifier :"
   ]
  },
  {
   "cell_type": "code",
   "execution_count": 9,
   "metadata": {},
   "outputs": [
    {
     "ename": "TypeError",
     "evalue": "'str' object does not support item assignment",
     "output_type": "error",
     "traceback": [
      "\u001b[1;31m---------------------------------------------------------------------------\u001b[0m",
      "\u001b[1;31mTypeError\u001b[0m                                 Traceback (most recent call last)",
      "Cell \u001b[1;32mIn[9], line 2\u001b[0m\n\u001b[0;32m      1\u001b[0m site \u001b[38;5;241m=\u001b[39m \u001b[38;5;124m'\u001b[39m\u001b[38;5;124mdocstring\u001b[39m\u001b[38;5;124m'\u001b[39m\n\u001b[1;32m----> 2\u001b[0m site[\u001b[38;5;241m2\u001b[39m:] \u001b[38;5;241m=\u001b[39m \u001b[38;5;124m'\u001b[39m\u001b[38;5;124mpy\u001b[39m\u001b[38;5;124m'\u001b[39m\n",
      "\u001b[1;31mTypeError\u001b[0m: 'str' object does not support item assignment"
     ]
    }
   ],
   "source": [
    "site = 'docstring'\n",
    "site[2:] = 'py' # TypeError: 'str' object does not support item assignment"
   ]
  },
  {
   "cell_type": "markdown",
   "metadata": {},
   "source": [
    "## LES NOMBRES ENTIERS"
   ]
  },
  {
   "cell_type": "markdown",
   "metadata": {},
   "source": [
    "Un nombre entier est un nombre qui ne possède pas de décimales (chiffres après la virgule)\n",
    "\n",
    "En anglais, on appelle ces nombres des 'integer' (int en raccourci).\n",
    "\n",
    "Quelques exemples de nombres entiers :"
   ]
  },
  {
   "cell_type": "code",
   "execution_count": 10,
   "metadata": {},
   "outputs": [
    {
     "name": "stdout",
     "output_type": "stream",
     "text": [
      "0\n",
      "-1\n",
      "6\n",
      "-9384\n",
      "-205\n",
      "100000\n"
     ]
    }
   ],
   "source": [
    "print(0)\n",
    "print(-1)\n",
    "print(6)\n",
    "print(-9384)\n",
    "print(-205)\n",
    "print(100000)"
   ]
  },
  {
   "cell_type": "markdown",
   "metadata": {},
   "source": [
    "Les nombres entiers peuvent être positifs ou négatifs. 0 est également considéré comme un nombre entier.\n",
    "\n",
    "Pour créer un nombre entier, on peut également utiliser la classe int :"
   ]
  },
  {
   "cell_type": "code",
   "execution_count": 11,
   "metadata": {},
   "outputs": [],
   "source": [
    "a = int(5)\n",
    "b = int(-2)\n"
   ]
  },
  {
   "cell_type": "markdown",
   "metadata": {},
   "source": [
    "La classe int est surtout utilisée pour convertir un objet en nombre entier :"
   ]
  },
  {
   "cell_type": "code",
   "execution_count": 12,
   "metadata": {},
   "outputs": [
    {
     "name": "stdout",
     "output_type": "stream",
     "text": [
      "10\n"
     ]
    }
   ],
   "source": [
    "a_float = 10.7542\n",
    "a_int = int(a_float)\n",
    "print(a_int)"
   ]
  },
  {
   "cell_type": "markdown",
   "metadata": {},
   "source": [
    " *En convertissant un nombre décimal en nombre entier, on se retrouve uniquement avec les chiffres avant le point. Python n'arrondit donc pas le nombre, il se contente d'enlever les décimales*"
   ]
  },
  {
   "cell_type": "markdown",
   "metadata": {},
   "source": [
    "Vous ne pouvez passer à la classe int que des nombres décimaux, des chaînes de caractères qui contiennent des nombres et des booléens (qui sont un sous- type des nombres entiers)."
   ]
  },
  {
   "cell_type": "code",
   "execution_count": null,
   "metadata": {},
   "outputs": [],
   "source": [
    "# Conversions valides\n",
    "print(int(5.0))\n",
    "print(int(True))\n",
    "print(int(False))\n",
    "print(int(\"1587\"))\n",
    "print(int(\"-541.254\"))"
   ]
  },
  {
   "cell_type": "code",
   "execution_count": null,
   "metadata": {},
   "outputs": [],
   "source": [
    "# Erreurs de type ValueError ou TypeError\n",
    "print(int(None))\n",
    "print(int(\"Bonjour\"))\n",
    "print(int([1, 2, 3]))"
   ]
  }
 ],
 "metadata": {
  "kernelspec": {
   "display_name": "base",
   "language": "python",
   "name": "python3"
  },
  "language_info": {
   "codemirror_mode": {
    "name": "ipython",
    "version": 3
   },
   "file_extension": ".py",
   "mimetype": "text/x-python",
   "name": "python",
   "nbconvert_exporter": "python",
   "pygments_lexer": "ipython3",
   "version": "3.12.4"
  }
 },
 "nbformat": 4,
 "nbformat_minor": 2
}
