{
 "cells": [
  {
   "cell_type": "markdown",
   "metadata": {},
   "source": [
    "*petit book pour connaitre les base de python by Walid TERRAK :)*"
   ]
  },
  {
   "cell_type": "markdown",
   "metadata": {},
   "source": [
    "**type natifs : Les chaînes de caractères/ Les nombres entiers/ Les nombres décimaux/ les booléen**"
   ]
  },
  {
   "cell_type": "markdown",
   "metadata": {},
   "source": [
    "## les chaines de caractéres str()"
   ]
  },
  {
   "cell_type": "markdown",
   "metadata": {},
   "source": [
    "Les chaînes de caractères en Python : Une chaîne de caractères est une séquence de caractères et un caractère est un symbole.\n",
    "Quand vous exécutez du code contenant une chaîne de caractères, chaque symbole est encodé (souvent en ASCII ou en Unicode) et devient compréhensible par votre ordinateur qui lui ne comprend que le langage binaire."
   ]
  },
  {
   "cell_type": "markdown",
   "metadata": {},
   "source": [
    "Pour créer une chaîne de caractères, on doit entourer les caractères d'apostrophes (aussi appelées guillemets simples) ou de guillemets doubles :"
   ]
  },
  {
   "cell_type": "code",
   "execution_count": 2,
   "metadata": {},
   "outputs": [],
   "source": [
    "variable_un = 'apostrophes'\n",
    "variable_deux = \"guillemets\"\n"
   ]
  },
  {
   "cell_type": "markdown",
   "metadata": {},
   "source": [
    "Il n'y a aucune différence entre les deux, c'est une question de style !\n",
    "\n",
    "Personnellement, je préfère utiliser les guillemets doubles pour la simple raison que ça permet d'insérer des / guillemets simples dans les phrases sans avoir besoin de les échapper avec un antislash.\n",
    "\n",
    "Par exemple si je veux faire une chaîne de caractères pour indiquer mon âge :"
   ]
  },
  {
   "cell_type": "code",
   "execution_count": 3,
   "metadata": {},
   "outputs": [],
   "source": [
    "age = \"J'ai 34 ans\"  # Avec guillemets doubles\n",
    "age = 'J\\'ai 34 ans'  # Avec guillemets simples\n"
   ]
  },
  {
   "cell_type": "markdown",
   "metadata": {},
   "source": [
    "Vous pouvez également écrire des chaînes de caractères sur plusieurs lignes en utilisant trois guillemets au lieu d'un seul :"
   ]
  },
  {
   "cell_type": "code",
   "execution_count": null,
   "metadata": {},
   "outputs": [],
   "source": [
    "longue_phrase = '''Bonjour,\n",
    "bienvenue sur python, \n",
    "on espère que vous appréciez \n",
    "les chaînes\n",
    "de caractères\n",
    "'''\n",
    "print(longue_phrase)"
   ]
  },
  {
   "cell_type": "markdown",
   "metadata": {},
   "source": [
    "Là encore, vous pouvez utiliser des guillemets simples ou doubles.\n",
    "\n",
    "Les chaînes de caractères étant des séquences de caractères, on peut accéder à un élément en utilisant les crochets et la position de l'élément dans la chaîne de caractères :"
   ]
  },
  {
   "cell_type": "code",
   "execution_count": null,
   "metadata": {},
   "outputs": [],
   "source": [
    "site = 'docstring'\n",
    "print(site[0])  # d\n",
    "print(site[4])  # t"
   ]
  },
  {
   "cell_type": "markdown",
   "metadata": {},
   "source": [
    "Vous pouvez accéder à plusieurs éléments en même temps grâce au slicing qui permet de préciser un intervalle de recherche avec un début, une fin et éventuellement un pas (un par un, deux par deux, trois par trois, etc). On doit séparer chaque valeur de l'intervalle par le symbole deux-points : :"
   ]
  },
  {
   "cell_type": "code",
   "execution_count": null,
   "metadata": {},
   "outputs": [],
   "source": [
    "site = 'docstring'\n",
    "print(site[0:3])  # 'doc'\n",
    "print(site[3:])   # 'string'\n",
    "print(site[1::2]) # 'osrn'"
   ]
  },
  {
   "cell_type": "markdown",
   "metadata": {},
   "source": [
    "La valeur de début de l'intervalle est inclusive alors quelle celle de fin est exclusive !"
   ]
  },
  {
   "cell_type": "markdown",
   "metadata": {},
   "source": [
    "Il n'est pas possible de directement modifier une chaîne de caractères.\n",
    "\n",
    "En effet, une chaîne de caractères est un objet immuable, ce qui signifie qu'on ne peut pas la modifier :"
   ]
  },
  {
   "cell_type": "code",
   "execution_count": null,
   "metadata": {},
   "outputs": [],
   "source": [
    "site = 'docstring'\n",
    "site[2:] = 'py' # TypeError: 'str' object does not support item assignment"
   ]
  },
  {
   "cell_type": "markdown",
   "metadata": {},
   "source": [
    "## LES NOMBRES ENTIERS int()"
   ]
  },
  {
   "cell_type": "markdown",
   "metadata": {},
   "source": [
    "Un nombre entier est un nombre qui ne possède pas de décimales (chiffres après la virgule)\n",
    "\n",
    "En anglais, on appelle ces nombres des 'integer' (int en raccourci).\n",
    "\n",
    "Quelques exemples de nombres entiers :"
   ]
  },
  {
   "cell_type": "code",
   "execution_count": null,
   "metadata": {},
   "outputs": [],
   "source": [
    "print(0)\n",
    "print(-1)\n",
    "print(6)\n",
    "print(-9384)\n",
    "print(-205)\n",
    "print(100000)"
   ]
  },
  {
   "cell_type": "markdown",
   "metadata": {},
   "source": [
    "Les nombres entiers peuvent être positifs ou négatifs. 0 est également considéré comme un nombre entier.\n",
    "\n",
    "Pour créer un nombre entier, on peut également utiliser la classe int :"
   ]
  },
  {
   "cell_type": "code",
   "execution_count": 11,
   "metadata": {},
   "outputs": [],
   "source": [
    "a = int(5)\n",
    "b = int(-2)\n"
   ]
  },
  {
   "cell_type": "markdown",
   "metadata": {},
   "source": [
    "La classe int est surtout utilisée pour convertir un objet en nombre entier :"
   ]
  },
  {
   "cell_type": "code",
   "execution_count": null,
   "metadata": {},
   "outputs": [],
   "source": [
    "a_float = 10.7542\n",
    "a_int = int(a_float)\n",
    "print(a_int)"
   ]
  },
  {
   "cell_type": "markdown",
   "metadata": {},
   "source": [
    " *En convertissant un nombre décimal en nombre entier, on se retrouve uniquement avec les chiffres avant le point. Python n'arrondit donc pas le nombre, il se contente d'enlever les décimales*"
   ]
  },
  {
   "cell_type": "markdown",
   "metadata": {},
   "source": [
    "Vous ne pouvez passer à la classe int que des nombres décimaux, des chaînes de caractères qui contiennent des nombres et des booléens (qui sont un sous- type des nombres entiers)."
   ]
  },
  {
   "cell_type": "code",
   "execution_count": null,
   "metadata": {},
   "outputs": [],
   "source": [
    "# Conversions valides\n",
    "print(int(5.0))\n",
    "print(int(True))\n",
    "print(int(False))\n",
    "print(int(\"1587\"))\n",
    "print(int(\"-541.254\"))"
   ]
  },
  {
   "cell_type": "code",
   "execution_count": null,
   "metadata": {},
   "outputs": [],
   "source": [
    "# Erreurs de type ValueError ou TypeError\n",
    "print(int(None))\n",
    "print(int(\"Bonjour\"))\n",
    "print(int([1, 2, 3]))"
   ]
  },
  {
   "cell_type": "markdown",
   "metadata": {},
   "source": [
    "## LES NOMBRES DECIMAUX float()"
   ]
  },
  {
   "cell_type": "markdown",
   "metadata": {},
   "source": [
    "Un nombre décimal est un nombre qui peut s'écrire avec un nombre fini de chiffres après la virgule.\n",
    "Avec Python, on utilise un point (notation anglaise) pour séparer les décimales et non une virgule.\n",
    "En anglais, on appelle ces nombres des 'floating point numbers' (float en raccourci).\n",
    "Vous retrouverez donc également l'appellation de 'nombres flottants'.\n",
    "Quelques exemples de nombres décimaux :"
   ]
  },
  {
   "cell_type": "code",
   "execution_count": null,
   "metadata": {},
   "outputs": [],
   "source": [
    "print(0.0)\n",
    "print(10.2)\n",
    "print(3.14159265359)\n",
    "print(1938.23423)\n",
    "print(-205.344)\n",
    "print(-1.0)"
   ]
  },
  {
   "cell_type": "markdown",
   "metadata": {},
   "source": [
    "Un nombre est considéré comme un nombre décimal même si les chiffres après le point sont des 0.\n",
    "Ainsi, 0.0 est un nombre décimal.\n",
    "Nous pouvons le vérifier avec la fonction isinstance :"
   ]
  },
  {
   "cell_type": "code",
   "execution_count": null,
   "metadata": {},
   "outputs": [],
   "source": [
    "print(isinstance(0.0, float))  \n",
    "print(isinstance(0.0, int))    "
   ]
  },
  {
   "cell_type": "markdown",
   "metadata": {},
   "source": [
    "Pour créer un nombre décimal on peut également utiliser la classe float :"
   ]
  },
  {
   "cell_type": "code",
   "execution_count": 19,
   "metadata": {},
   "outputs": [],
   "source": [
    "a = float(5.0)\n",
    "b = float(10.45)"
   ]
  },
  {
   "cell_type": "markdown",
   "metadata": {},
   "source": [
    "La classe float est surtout utilisée pour convertir un objet en nombre décimal :"
   ]
  },
  {
   "cell_type": "code",
   "execution_count": null,
   "metadata": {},
   "outputs": [],
   "source": [
    "a_int = 5\n",
    "a_float = float(a_int)\n",
    "print(a_float)"
   ]
  },
  {
   "cell_type": "markdown",
   "metadata": {},
   "source": [
    "Vous ne pouvez passer à la classe float que des nombres entiers, des chaînes de caractères qui contiennent des nombres et des booléens (qui sont un sous- type des nombres entiers).\n",
    "\n",
    "Si vous essayez de convertir un autre type d'objet en nombre décimal, vous aurez une erreur :"
   ]
  },
  {
   "cell_type": "code",
   "execution_count": null,
   "metadata": {},
   "outputs": [],
   "source": [
    "# Conversions valides\n",
    "print(float(5))\n",
    "print(float(True))\n",
    "print(float(False))\n",
    "print(float(\"10.4\"))"
   ]
  },
  {
   "cell_type": "code",
   "execution_count": null,
   "metadata": {},
   "outputs": [],
   "source": [
    "# Erreurs de type ValueError ou TypeError\n",
    "print(float(None))\n",
    "print(float(\"Bonjour\"))\n",
    "print(float([1, 2, 3]))"
   ]
  },
  {
   "cell_type": "markdown",
   "metadata": {},
   "source": [
    "## Les booléens bool()"
   ]
  },
  {
   "cell_type": "markdown",
   "metadata": {},
   "source": [
    "Un booléen est un type natif de Python qui n'a que deux valeurs possibles : True ou False.\n",
    "\n",
    "Les booléens sont un sous-type du type natif des nombres entiers :"
   ]
  },
  {
   "cell_type": "code",
   "execution_count": null,
   "metadata": {},
   "outputs": [],
   "source": [
    "issubclass(bool, int) \n"
   ]
  },
  {
   "cell_type": "markdown",
   "metadata": {},
   "source": [
    "Le booléen True est donc similaire au nombre 1 et le booléen False au nombre 0.\n",
    "\n",
    "Il est ainsi possible de réaliser des opérations mathématiques entre un booléen et un entier :"
   ]
  },
  {
   "cell_type": "code",
   "execution_count": null,
   "metadata": {},
   "outputs": [],
   "source": [
    "print(True + 1)\n",
    "print(True - 1)\n",
    "print(False + 1)\n",
    "print(False - 1)\n",
    "print(True * 5)\n",
    "print(False * 5)\n",
    "print(True ** 4)"
   ]
  },
  {
   "cell_type": "markdown",
   "metadata": {},
   "source": [
    "Cela peut sembler inutile, mais c'est très pratique si vous devez par exemple établir un compteur qui se base sur le résultat d'une expression qui résulte sur un booléen.\n",
    "\n",
    "Par exemple, le code suivant :"
   ]
  },
  {
   "cell_type": "code",
   "execution_count": null,
   "metadata": {},
   "outputs": [],
   "source": [
    "utilisateur_inscrit = True\n",
    "nombre_utilisateurs = 0\n",
    "if utilisateur_inscrit:\n",
    "    nombre_utilisateurs += 1\n",
    "print(nombre_utilisateurs)"
   ]
  },
  {
   "cell_type": "markdown",
   "metadata": {},
   "source": [
    "Peut être simplifié de la sorte, sans la structure conditionnelle :"
   ]
  },
  {
   "cell_type": "code",
   "execution_count": null,
   "metadata": {},
   "outputs": [],
   "source": [
    "utilisateur_inscrit = True\n",
    "nombre_utilisateurs = 0\n",
    "nombre_utilisateurs += utilisateur_inscrit\n",
    "print(nombre_utilisateurs)"
   ]
  },
  {
   "cell_type": "markdown",
   "metadata": {},
   "source": [
    "Tous les objets de Python peuvent être évalués comme des booléens.\n",
    "\n",
    "Pour évaluer (ou convertir) un objet en tant que booléen, on utilise la classe bool :"
   ]
  },
  {
   "cell_type": "code",
   "execution_count": null,
   "metadata": {},
   "outputs": [],
   "source": [
    "print(bool(\"Bonjour\"))\n",
    "print(bool(1))\n",
    "print(bool([0]))\n",
    "print(bool((1, 2, 3)))\n",
    "print(bool({1: \"un\", 2: \"deux\"}))"
   ]
  },
  {
   "cell_type": "markdown",
   "metadata": {},
   "source": [
    "Tous les types natifs possèdent par défaut une valeur qui est évaluée comme False, toutes les autres étant évaluées comme True.\n",
    "\n",
    "Par exemple, tous les types natifs « vides » seront évalués comme False :"
   ]
  },
  {
   "cell_type": "code",
   "execution_count": null,
   "metadata": {},
   "outputs": [],
   "source": [
    "print(bool(\"\"))\n",
    "print(bool([]))\n",
    "print(bool(()))\n",
    "print(bool({}))"
   ]
  },
  {
   "cell_type": "markdown",
   "metadata": {},
   "source": [
    "Pour d'autres objets, ce seront des valeurs spécifiques, comme le 0 pour les nombres entiers, 0.0 pour les nombres décimaux ou encore le mot clé None :"
   ]
  },
  {
   "cell_type": "code",
   "execution_count": null,
   "metadata": {},
   "outputs": [],
   "source": [
    "print(bool(0))\n",
    "print(bool(0.0))\n",
    "print(bool(None))"
   ]
  },
  {
   "cell_type": "markdown",
   "metadata": {},
   "source": [
    "Toutes les autres valeurs de ces types retourneront True quand vous les passez à la classe bool.\n",
    "\n",
    "Il est possible d'implémenter la méthode spéciale bool pour définir le comportement d'un objet avec la classe bool :"
   ]
  },
  {
   "cell_type": "code",
   "execution_count": null,
   "metadata": {},
   "outputs": [],
   "source": [
    "class Person:\n",
    "    def __init__(self, prenom, nom, age):\n",
    "        self.prenom = prenom\n",
    "        self.nom = nom\n",
    "        self.age = age\n",
    "    def __bool__(self):\n",
    "        return self.age >= 18\n",
    "patrick = Person(prenom=\"Patrick\", nom=\"Michaud\", age=14)\n",
    "john = Person(prenom=\"John\", nom=\"Tremblay\", age=20)\n",
    "print(bool(patrick))  # False car Patrick a moins de 18 ans\n",
    "print(bool(john))  # True car Patrick a plus de 18 ans"
   ]
  },
  {
   "cell_type": "markdown",
   "metadata": {},
   "source": [
    "# LES VARIABLES"
   ]
  },
  {
   "cell_type": "markdown",
   "metadata": {},
   "source": [
    "Une variable permet de stocker un objet en mémoire."
   ]
  },
  {
   "cell_type": "markdown",
   "metadata": {},
   "source": [
    "*Il faut la voir un peu comme un sac à dos dans lequel vous rangez vos affaires.*"
   ]
  },
  {
   "cell_type": "code",
   "execution_count": 1,
   "metadata": {},
   "outputs": [],
   "source": [
    "sac_a_dos = ['stylo', 'cahier', 'gomme']"
   ]
  },
  {
   "cell_type": "markdown",
   "metadata": {},
   "source": [
    "Vous pouvez ainsi y accéder quand vous le souhaitez sans avoir besoin de recréer à chaque fois l'objet auquel est associé la variable :"
   ]
  },
  {
   "cell_type": "code",
   "execution_count": null,
   "metadata": {},
   "outputs": [],
   "source": [
    "sac_a_dos = ['stylo', 'cahier', 'gomme']\n",
    "print(sac_a_dos)"
   ]
  },
  {
   "cell_type": "markdown",
   "metadata": {},
   "source": [
    "Vous pouvez redéfinir à n'importe quel moment une variable en y associant un nouvel objet :"
   ]
  },
  {
   "cell_type": "code",
   "execution_count": null,
   "metadata": {},
   "outputs": [],
   "source": [
    "sac_a_dos = ['stylo', 'cahier', 'gomme']\n",
    "sac_a_dos = ['stylo', 'cahier', 'banane'] # pour le goûter\n",
    "print(sac_a_dos)"
   ]
  },
  {
   "cell_type": "markdown",
   "metadata": {},
   "source": [
    "Quand j'exécute le code si dessous, Python interprète l'instruction prenom = 'Paul', il crée un nouvel objet avec la valeur 'Paul' et crée un lien entre la variable prenom et cet objet.\n",
    "Sur la deuxième ligne, Python interprète autre_prenom = prenom et vérifie que cet objet n'existe pas déjà en mémoire. Comme c'est le cas, il ne va pas le recréer. Il va juste créer un nouveau lien entre cette variable autre_prenom et l'objet dont la valeur est 'Paul'."
   ]
  },
  {
   "cell_type": "code",
   "execution_count": null,
   "metadata": {},
   "outputs": [],
   "source": [
    "prenom = 'Paul'\n",
    "autre_prenom = prenom\n",
    "print(prenom)\n",
    "print(autre_prenom)"
   ]
  },
  {
   "cell_type": "markdown",
   "metadata": {},
   "source": [
    "On peut utiliser la fonction ```python id pour vérifier l'identifiant de l'espace mémoire dans lequel se trouve un objet associé à une variable :"
   ]
  },
  {
   "cell_type": "code",
   "execution_count": null,
   "metadata": {},
   "outputs": [],
   "source": [
    "prenom = 'Paul'\n",
    "autre_prenom = prenom\n",
    "# La fonction id retourne 2 pour les deux variables.\n",
    "# Nous accédons donc au même objet (la chaîne de caractères 'Paul') avec deux variables différentes\n",
    "print(id(prenom))        # 2\n",
    "print(id(autre_prenom))  # 2\n",
    "# Si on associe deux variables à deux objets différents, les id seront différents :\n",
    "prenom = 'Patrick'\n",
    "autre_prenom = 'Pierre'\n",
    "# Les id sont différents, car nous accédons à deux objets différents, avec deux noms différents :\n",
    "print(id(prenom))        # 3\n",
    "print(id(autre_prenom))  # 4"
   ]
  },
  {
   "cell_type": "markdown",
   "metadata": {},
   "source": [
    "Une variable définie à l'intérieur d'une fonction (dans l'espace local de la fonction) ne sera pas disponible à l'extérieur."
   ]
  },
  {
   "cell_type": "code",
   "execution_count": null,
   "metadata": {},
   "outputs": [],
   "source": [
    "def hello_paul():\n",
    "    prenom = 'Paul'\n",
    "    print('Hello {}'.format(prenom))\n",
    "print(prenom)"
   ]
  },
  {
   "cell_type": "markdown",
   "metadata": {},
   "source": [
    "À l'inverse une variable définie dans l'espace global (à l'extérieur de la fonction) sera disponible à l'intérieur de celle-ci :"
   ]
  },
  {
   "cell_type": "code",
   "execution_count": null,
   "metadata": {},
   "outputs": [],
   "source": [
    "prenom = 'Paul'\n",
    "def hello_paul():\n",
    "    print('Hello {}'.format(prenom))\n",
    "hello_paul()"
   ]
  },
  {
   "cell_type": "markdown",
   "metadata": {},
   "source": [
    "Comme vous l'avez vu, on utilise le symbole égal = pour assigner une valeur à une variable :"
   ]
  },
  {
   "cell_type": "code",
   "execution_count": 3,
   "metadata": {},
   "outputs": [],
   "source": [
    "prenom = 'Paul'\n",
    "age = 24\n",
    "homme = True"
   ]
  },
  {
   "cell_type": "markdown",
   "metadata": {},
   "source": [
    "Python est un langage dynamique, nous n'avons pas besoin de lui dire qu'un nombre est un nombre ou qu'une chaîne de caractères est une chaîne de caractères."
   ]
  },
  {
   "cell_type": "markdown",
   "metadata": {},
   "source": [
    "Les assignations multiples"
   ]
  },
  {
   "cell_type": "markdown",
   "metadata": {},
   "source": [
    "Python n'assigne pas vraiment de valeurs aux variables, il crée des liens entre des noms et des objets.\n",
    "De ce fait, on peut lier plusieurs variables au même objet de cette manière :"
   ]
  },
  {
   "cell_type": "code",
   "execution_count": null,
   "metadata": {},
   "outputs": [],
   "source": [
    "a = b = c = 750\n",
    "id(a)  # meme id\n",
    "id(b)  # meme id\n",
    "id(c)  # meme id"
   ]
  },
  {
   "cell_type": "markdown",
   "metadata": {},
   "source": [
    "Les assignations parallèles"
   ]
  },
  {
   "cell_type": "markdown",
   "metadata": {},
   "source": [
    "On peut aussi demander à Python d'assigner plusieurs variables à plusieurs objets différents de cette façon"
   ]
  },
  {
   "cell_type": "code",
   "execution_count": null,
   "metadata": {},
   "outputs": [],
   "source": [
    "a, b, c = 1, 2, 3\n",
    "print(a)\n",
    "print(b)\n",
    "print(c)"
   ]
  },
  {
   "cell_type": "markdown",
   "metadata": {},
   "source": [
    "Cela revient au même que de faire :"
   ]
  },
  {
   "cell_type": "code",
   "execution_count": 1,
   "metadata": {},
   "outputs": [],
   "source": [
    "a = 1\n",
    "b = 2\n",
    "c = 3"
   ]
  },
  {
   "cell_type": "markdown",
   "metadata": {},
   "source": [
    "Les constantes"
   ]
  },
  {
   "cell_type": "markdown",
   "metadata": {},
   "source": [
    "En théorie, une constante est un type de variable qu'on ne peut pas modifier.\n",
    "Avec Python, on les déclare toujours en majuscule :"
   ]
  },
  {
   "cell_type": "code",
   "execution_count": 3,
   "metadata": {},
   "outputs": [],
   "source": [
    "PI = 3.14\n",
    "PRIMARY_COLOR = \"#FF00FF\""
   ]
  },
  {
   "cell_type": "markdown",
   "metadata": {},
   "source": [
    "Cependant, avec Python, les constantes n'en sont pas vraiment car on peut leur assigner des valeurs différentes à n'importe quel moment !\n",
    "C'est plus une convention que respectent les développeurs Python et qui permet de séparer visuellement les variables destinées à être modifiées de celles qui ne le sont pas."
   ]
  },
  {
   "cell_type": "markdown",
   "metadata": {},
   "source": [
    "Concaténer des variables"
   ]
  },
  {
   "cell_type": "markdown",
   "metadata": {},
   "source": [
    "Pour concaténer des variables, on utilise l'opérateur d'addition (+) :"
   ]
  },
  {
   "cell_type": "code",
   "execution_count": null,
   "metadata": {},
   "outputs": [],
   "source": [
    "prenom = 'Paul'\n",
    "nom = 'Sims'\n",
    "\n",
    "print(prenom + ' ' + nom)\n"
   ]
  },
  {
   "cell_type": "markdown",
   "metadata": {},
   "source": [
    "En plus d'être un langage dynamique , Python est aussi un langage fortement typé.\n",
    "Cela signifie que vous ne pouvez pas mélanger des chaînes de caractères avec des nombres ou d'autres types et vice-versa.\n",
    "Si vous écrivez :"
   ]
  },
  {
   "cell_type": "code",
   "execution_count": null,
   "metadata": {},
   "outputs": [],
   "source": [
    "prenom = 'Paul'\n",
    "age = 24\n",
    "print(prenom + age)"
   ]
  },
  {
   "cell_type": "markdown",
   "metadata": {},
   "source": [
    "Vous obtiendrez une erreur TypeError (erreur de type).\n",
    "Dans ce cas-là vous devez convertir le type de votre variable pour pouvoir la concaténer.\n",
    "En l'occurrence, on peut convertir le nombre 24 en chaîne de caractères '24' grâce à la fonction str()"
   ]
  },
  {
   "cell_type": "code",
   "execution_count": 8,
   "metadata": {},
   "outputs": [
    {
     "name": "stdout",
     "output_type": "stream",
     "text": [
      "Paul 24\n"
     ]
    }
   ],
   "source": [
    "prenom = 'Paul'\n",
    "age = 24\n",
    "print(prenom + ' ' + str(age))"
   ]
  }
 ],
 "metadata": {
  "kernelspec": {
   "display_name": "base",
   "language": "python",
   "name": "python3"
  },
  "language_info": {
   "codemirror_mode": {
    "name": "ipython",
    "version": 3
   },
   "file_extension": ".py",
   "mimetype": "text/x-python",
   "name": "python",
   "nbconvert_exporter": "python",
   "pygments_lexer": "ipython3",
   "version": "3.12.4"
  }
 },
 "nbformat": 4,
 "nbformat_minor": 2
}
