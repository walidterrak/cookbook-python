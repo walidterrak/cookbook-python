{
 "cells": [
  {
   "cell_type": "markdown",
   "metadata": {},
   "source": [
    "*petit book pour connaitre les base de python*"
   ]
  },
  {
   "cell_type": "markdown",
   "metadata": {},
   "source": [
    "**type natifs : Les chaînes de caractères/ Les nombres entiers/ Les nombres décimaux/ les booléen**"
   ]
  },
  {
   "cell_type": "markdown",
   "metadata": {},
   "source": [
    "## les chaines de caractéres str()"
   ]
  },
  {
   "cell_type": "markdown",
   "metadata": {},
   "source": [
    "Les chaînes de caractères en Python : Une chaîne de caractères est une séquence de caractères et un caractère est un symbole.\n",
    "Quand vous exécutez du code contenant une chaîne de caractères, chaque symbole est encodé (souvent en ASCII ou en Unicode) et devient compréhensible par votre ordinateur qui lui ne comprend que le langage binaire."
   ]
  },
  {
   "cell_type": "markdown",
   "metadata": {},
   "source": [
    "Pour créer une chaîne de caractères, on doit entourer les caractères d'apostrophes (aussi appelées guillemets simples) ou de guillemets doubles :"
   ]
  },
  {
   "cell_type": "code",
   "execution_count": 2,
   "metadata": {},
   "outputs": [],
   "source": [
    "variable_un = 'apostrophes'\n",
    "variable_deux = \"guillemets\"\n"
   ]
  },
  {
   "cell_type": "markdown",
   "metadata": {},
   "source": [
    "Il n'y a aucune différence entre les deux, c'est une question de style !\n",
    "\n",
    "Personnellement, je préfère utiliser les guillemets doubles pour la simple raison que ça permet d'insérer des / guillemets simples dans les phrases sans avoir besoin de les échapper avec un antislash.\n",
    "\n",
    "Par exemple si je veux faire une chaîne de caractères pour indiquer mon âge :"
   ]
  },
  {
   "cell_type": "code",
   "execution_count": 3,
   "metadata": {},
   "outputs": [],
   "source": [
    "age = \"J'ai 26 ans\"  # Avec guillemets doubles\n",
    "age = 'J\\'ai 26 ans'  # Avec guillemets simples\n"
   ]
  },
  {
   "cell_type": "markdown",
   "metadata": {},
   "source": [
    "Vous pouvez également écrire des chaînes de caractères sur plusieurs lignes en utilisant trois guillemets au lieu d'un seul :"
   ]
  },
  {
   "cell_type": "code",
   "execution_count": 4,
   "metadata": {},
   "outputs": [],
   "source": [
    "longue_phrase = '''Bonjour,\n",
    "bienvenue sur Docstring, \n",
    "    on espère que vous appréciez \n",
    "ce glossaire sur les chaînes\n",
    "de caractères 🙂\n",
    "'''\n"
   ]
  },
  {
   "cell_type": "markdown",
   "metadata": {},
   "source": [
    "Là encore, vous pouvez utiliser des guillemets simples ou doubles.\n",
    "\n",
    "Les chaînes de caractères étant des séquences de caractères, on peut accéder à un élément en utilisant les crochets et la position de l'élément dans la chaîne de caractères :"
   ]
  },
  {
   "cell_type": "code",
   "execution_count": 5,
   "metadata": {},
   "outputs": [
    {
     "name": "stdout",
     "output_type": "stream",
     "text": [
      "d\n",
      "t\n"
     ]
    }
   ],
   "source": [
    "site = 'docstring'\n",
    "print(site[0])  # d\n",
    "print(site[4])  # t"
   ]
  },
  {
   "cell_type": "markdown",
   "metadata": {},
   "source": [
    "Vous pouvez accéder à plusieurs éléments en même temps grâce au slicing qui permet de préciser un intervalle de recherche avec un début, une fin et éventuellement un pas (un par un, deux par deux, trois par trois, etc). On doit séparer chaque valeur de l'intervalle par le symbole deux-points : :"
   ]
  },
  {
   "cell_type": "code",
   "execution_count": 6,
   "metadata": {},
   "outputs": [
    {
     "name": "stdout",
     "output_type": "stream",
     "text": [
      "doc\n",
      "string\n",
      "osrn\n"
     ]
    }
   ],
   "source": [
    "site = 'docstring'\n",
    "print(site[0:3])  # 'doc'\n",
    "print(site[3:])   # 'string'\n",
    "print(site[1::2]) # 'osrn'"
   ]
  },
  {
   "cell_type": "markdown",
   "metadata": {},
   "source": [
    "La valeur de début de l'intervalle est inclusive alors quelle celle de fin est exclusive !"
   ]
  },
  {
   "cell_type": "markdown",
   "metadata": {},
   "source": [
    "Il n'est pas possible de directement modifier une chaîne de caractères.\n",
    "\n",
    "En effet, une chaîne de caractères est un objet immuable, ce qui signifie qu'on ne peut pas la modifier :"
   ]
  },
  {
   "cell_type": "code",
   "execution_count": null,
   "metadata": {},
   "outputs": [],
   "source": [
    "site = 'docstring'\n",
    "site[2:] = 'py' # TypeError: 'str' object does not support item assignment"
   ]
  },
  {
   "cell_type": "markdown",
   "metadata": {},
   "source": [
    "## LES NOMBRES ENTIERS int()"
   ]
  },
  {
   "cell_type": "markdown",
   "metadata": {},
   "source": [
    "Un nombre entier est un nombre qui ne possède pas de décimales (chiffres après la virgule)\n",
    "\n",
    "En anglais, on appelle ces nombres des 'integer' (int en raccourci).\n",
    "\n",
    "Quelques exemples de nombres entiers :"
   ]
  },
  {
   "cell_type": "code",
   "execution_count": 10,
   "metadata": {},
   "outputs": [
    {
     "name": "stdout",
     "output_type": "stream",
     "text": [
      "0\n",
      "-1\n",
      "6\n",
      "-9384\n",
      "-205\n",
      "100000\n"
     ]
    }
   ],
   "source": [
    "print(0)\n",
    "print(-1)\n",
    "print(6)\n",
    "print(-9384)\n",
    "print(-205)\n",
    "print(100000)"
   ]
  },
  {
   "cell_type": "markdown",
   "metadata": {},
   "source": [
    "Les nombres entiers peuvent être positifs ou négatifs. 0 est également considéré comme un nombre entier.\n",
    "\n",
    "Pour créer un nombre entier, on peut également utiliser la classe int :"
   ]
  },
  {
   "cell_type": "code",
   "execution_count": 11,
   "metadata": {},
   "outputs": [],
   "source": [
    "a = int(5)\n",
    "b = int(-2)\n"
   ]
  },
  {
   "cell_type": "markdown",
   "metadata": {},
   "source": [
    "La classe int est surtout utilisée pour convertir un objet en nombre entier :"
   ]
  },
  {
   "cell_type": "code",
   "execution_count": 12,
   "metadata": {},
   "outputs": [
    {
     "name": "stdout",
     "output_type": "stream",
     "text": [
      "10\n"
     ]
    }
   ],
   "source": [
    "a_float = 10.7542\n",
    "a_int = int(a_float)\n",
    "print(a_int)"
   ]
  },
  {
   "cell_type": "markdown",
   "metadata": {},
   "source": [
    " *En convertissant un nombre décimal en nombre entier, on se retrouve uniquement avec les chiffres avant le point. Python n'arrondit donc pas le nombre, il se contente d'enlever les décimales*"
   ]
  },
  {
   "cell_type": "markdown",
   "metadata": {},
   "source": [
    "Vous ne pouvez passer à la classe int que des nombres décimaux, des chaînes de caractères qui contiennent des nombres et des booléens (qui sont un sous- type des nombres entiers)."
   ]
  },
  {
   "cell_type": "code",
   "execution_count": null,
   "metadata": {},
   "outputs": [],
   "source": [
    "# Conversions valides\n",
    "print(int(5.0))\n",
    "print(int(True))\n",
    "print(int(False))\n",
    "print(int(\"1587\"))\n",
    "print(int(\"-541.254\"))"
   ]
  },
  {
   "cell_type": "code",
   "execution_count": null,
   "metadata": {},
   "outputs": [],
   "source": [
    "# Erreurs de type ValueError ou TypeError\n",
    "print(int(None))\n",
    "print(int(\"Bonjour\"))\n",
    "print(int([1, 2, 3]))"
   ]
  },
  {
   "cell_type": "markdown",
   "metadata": {},
   "source": [
    "## LES NOMBRES DECIMAUX float()"
   ]
  },
  {
   "cell_type": "markdown",
   "metadata": {},
   "source": [
    "Un nombre décimal est un nombre qui peut s'écrire avec un nombre fini de chiffres après la virgule.\n",
    "Avec Python, on utilise un point (notation anglaise) pour séparer les décimales et non une virgule.\n",
    "En anglais, on appelle ces nombres des 'floating point numbers' (float en raccourci).\n",
    "Vous retrouverez donc également l'appellation de 'nombres flottants'.\n",
    "Quelques exemples de nombres décimaux :"
   ]
  },
  {
   "cell_type": "code",
   "execution_count": 16,
   "metadata": {},
   "outputs": [
    {
     "name": "stdout",
     "output_type": "stream",
     "text": [
      "0.0\n",
      "10.2\n",
      "3.14159265359\n",
      "1938.23423\n",
      "-205.344\n",
      "-1.0\n"
     ]
    }
   ],
   "source": [
    "print(0.0)\n",
    "print(10.2)\n",
    "print(3.14159265359)\n",
    "print(1938.23423)\n",
    "print(-205.344)\n",
    "print(-1.0)"
   ]
  },
  {
   "cell_type": "markdown",
   "metadata": {},
   "source": [
    "Un nombre est considéré comme un nombre décimal même si les chiffres après le point sont des 0.\n",
    "Ainsi, 0.0 est un nombre décimal.\n",
    "Nous pouvons le vérifier avec la fonction isinstance :"
   ]
  },
  {
   "cell_type": "code",
   "execution_count": 18,
   "metadata": {},
   "outputs": [
    {
     "name": "stdout",
     "output_type": "stream",
     "text": [
      "True\n",
      "False\n"
     ]
    }
   ],
   "source": [
    "print(isinstance(0.0, float))  \n",
    "print(isinstance(0.0, int))    "
   ]
  },
  {
   "cell_type": "markdown",
   "metadata": {},
   "source": [
    "Pour créer un nombre décimal on peut également utiliser la classe float :"
   ]
  },
  {
   "cell_type": "code",
   "execution_count": 19,
   "metadata": {},
   "outputs": [],
   "source": [
    "a = float(5.0)\n",
    "b = float(10.45)"
   ]
  },
  {
   "cell_type": "markdown",
   "metadata": {},
   "source": [
    "La classe float est surtout utilisée pour convertir un objet en nombre décimal :"
   ]
  },
  {
   "cell_type": "code",
   "execution_count": 20,
   "metadata": {},
   "outputs": [
    {
     "name": "stdout",
     "output_type": "stream",
     "text": [
      "5.0\n"
     ]
    }
   ],
   "source": [
    "a_int = 5\n",
    "a_float = float(a_int)\n",
    "print(a_float)"
   ]
  },
  {
   "cell_type": "markdown",
   "metadata": {},
   "source": [
    "Vous ne pouvez passer à la classe float que des nombres entiers, des chaînes de caractères qui contiennent des nombres et des booléens (qui sont un sous- type des nombres entiers).\n",
    "\n",
    "Si vous essayez de convertir un autre type d'objet en nombre décimal, vous aurez une erreur :"
   ]
  },
  {
   "cell_type": "code",
   "execution_count": 21,
   "metadata": {},
   "outputs": [
    {
     "name": "stdout",
     "output_type": "stream",
     "text": [
      "5.0\n",
      "1.0\n",
      "0.0\n",
      "10.4\n"
     ]
    }
   ],
   "source": [
    "# Conversions valides\n",
    "print(float(5))\n",
    "print(float(True))\n",
    "print(float(False))\n",
    "print(float(\"10.4\"))"
   ]
  },
  {
   "cell_type": "code",
   "execution_count": null,
   "metadata": {},
   "outputs": [],
   "source": [
    "# Erreurs de type ValueError ou TypeError\n",
    "print(float(None))\n",
    "print(float(\"Bonjour\"))\n",
    "print(float([1, 2, 3]))"
   ]
  },
  {
   "cell_type": "markdown",
   "metadata": {},
   "source": [
    "## Les booléens bool()"
   ]
  },
  {
   "cell_type": "markdown",
   "metadata": {},
   "source": [
    "Un booléen est un type natif de Python qui n'a que deux valeurs possibles : True ou False.\n",
    "\n",
    "Les booléens sont un sous-type du type natif des nombres entiers :"
   ]
  },
  {
   "cell_type": "code",
   "execution_count": 24,
   "metadata": {},
   "outputs": [
    {
     "data": {
      "text/plain": [
       "True"
      ]
     },
     "execution_count": 24,
     "metadata": {},
     "output_type": "execute_result"
    }
   ],
   "source": [
    "issubclass(bool, int) \n"
   ]
  },
  {
   "cell_type": "markdown",
   "metadata": {},
   "source": [
    "Le booléen True est donc similaire au nombre 1 et le booléen False au nombre 0.\n",
    "\n",
    "Il est ainsi possible de réaliser des opérations mathématiques entre un booléen et un entier :"
   ]
  },
  {
   "cell_type": "code",
   "execution_count": 25,
   "metadata": {},
   "outputs": [
    {
     "name": "stdout",
     "output_type": "stream",
     "text": [
      "2\n",
      "0\n",
      "1\n",
      "-1\n",
      "5\n",
      "0\n",
      "1\n"
     ]
    }
   ],
   "source": [
    "print(True + 1)\n",
    "print(True - 1)\n",
    "print(False + 1)\n",
    "print(False - 1)\n",
    "print(True * 5)\n",
    "print(False * 5)\n",
    "print(True ** 4)"
   ]
  },
  {
   "cell_type": "markdown",
   "metadata": {},
   "source": [
    "Cela peut sembler inutile, mais c'est très pratique si vous devez par exemple établir un compteur qui se base sur le résultat d'une expression qui résulte sur un booléen.\n",
    "\n",
    "Par exemple, le code suivant :"
   ]
  },
  {
   "cell_type": "code",
   "execution_count": 26,
   "metadata": {},
   "outputs": [
    {
     "name": "stdout",
     "output_type": "stream",
     "text": [
      "1\n"
     ]
    }
   ],
   "source": [
    "utilisateur_inscrit = True\n",
    "nombre_utilisateurs = 0\n",
    "if utilisateur_inscrit:\n",
    "    nombre_utilisateurs += 1\n",
    "print(nombre_utilisateurs)"
   ]
  },
  {
   "cell_type": "markdown",
   "metadata": {},
   "source": [
    "Peut être simplifié de la sorte, sans la structure conditionnelle :"
   ]
  },
  {
   "cell_type": "code",
   "execution_count": 27,
   "metadata": {},
   "outputs": [
    {
     "name": "stdout",
     "output_type": "stream",
     "text": [
      "1\n"
     ]
    }
   ],
   "source": [
    "utilisateur_inscrit = True\n",
    "nombre_utilisateurs = 0\n",
    "nombre_utilisateurs += utilisateur_inscrit\n",
    "print(nombre_utilisateurs)"
   ]
  },
  {
   "cell_type": "markdown",
   "metadata": {},
   "source": [
    "Tous les objets de Python peuvent être évalués comme des booléens.\n",
    "\n",
    "Pour évaluer (ou convertir) un objet en tant que booléen, on utilise la classe bool :"
   ]
  },
  {
   "cell_type": "code",
   "execution_count": 30,
   "metadata": {},
   "outputs": [
    {
     "name": "stdout",
     "output_type": "stream",
     "text": [
      "True\n",
      "True\n",
      "True\n",
      "True\n",
      "True\n"
     ]
    }
   ],
   "source": [
    "print(bool(\"Bonjour\"))\n",
    "print(bool(1))\n",
    "print(bool([0]))\n",
    "print(bool((1, 2, 3)))\n",
    "print(bool({1: \"un\", 2: \"deux\"}))"
   ]
  },
  {
   "cell_type": "markdown",
   "metadata": {},
   "source": [
    "Tous les types natifs possèdent par défaut une valeur qui est évaluée comme False, toutes les autres étant évaluées comme True.\n",
    "\n",
    "Par exemple, tous les types natifs « vides » seront évalués comme False :"
   ]
  },
  {
   "cell_type": "code",
   "execution_count": 29,
   "metadata": {},
   "outputs": [
    {
     "name": "stdout",
     "output_type": "stream",
     "text": [
      "False\n",
      "False\n",
      "False\n",
      "False\n"
     ]
    }
   ],
   "source": [
    "print(bool(\"\"))\n",
    "print(bool([]))\n",
    "print(bool(()))\n",
    "print(bool({}))"
   ]
  },
  {
   "cell_type": "markdown",
   "metadata": {},
   "source": [
    "Pour d'autres objets, ce seront des valeurs spécifiques, comme le 0 pour les nombres entiers, 0.0 pour les nombres décimaux ou encore le mot clé None :"
   ]
  },
  {
   "cell_type": "code",
   "execution_count": 31,
   "metadata": {},
   "outputs": [
    {
     "name": "stdout",
     "output_type": "stream",
     "text": [
      "False\n",
      "False\n",
      "False\n"
     ]
    }
   ],
   "source": [
    "print(bool(0))\n",
    "print(bool(0.0))\n",
    "print(bool(None))"
   ]
  },
  {
   "cell_type": "markdown",
   "metadata": {},
   "source": [
    "Toutes les autres valeurs de ces types retourneront True quand vous les passez à la classe bool.\n",
    "\n",
    "Il est possible d'implémenter la méthode spéciale bool pour définir le comportement d'un objet avec la classe bool :"
   ]
  },
  {
   "cell_type": "code",
   "execution_count": 32,
   "metadata": {},
   "outputs": [
    {
     "name": "stdout",
     "output_type": "stream",
     "text": [
      "False\n",
      "True\n"
     ]
    }
   ],
   "source": [
    "class Person:\n",
    "    def __init__(self, prenom, nom, age):\n",
    "        self.prenom = prenom\n",
    "        self.nom = nom\n",
    "        self.age = age\n",
    "    def __bool__(self):\n",
    "        return self.age >= 18\n",
    "patrick = Person(prenom=\"Patrick\", nom=\"Michaud\", age=14)\n",
    "john = Person(prenom=\"John\", nom=\"Tremblay\", age=20)\n",
    "print(bool(patrick))  # False car Patrick a moins de 18 ans\n",
    "print(bool(john))  # True car Patrick a plus de 18 ans"
   ]
  }
 ],
 "metadata": {
  "kernelspec": {
   "display_name": "base",
   "language": "python",
   "name": "python3"
  },
  "language_info": {
   "codemirror_mode": {
    "name": "ipython",
    "version": 3
   },
   "file_extension": ".py",
   "mimetype": "text/x-python",
   "name": "python",
   "nbconvert_exporter": "python",
   "pygments_lexer": "ipython3",
   "version": "3.12.4"
  }
 },
 "nbformat": 4,
 "nbformat_minor": 2
}
